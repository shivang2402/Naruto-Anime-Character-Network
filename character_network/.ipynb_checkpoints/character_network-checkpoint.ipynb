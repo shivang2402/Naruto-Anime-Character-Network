{
 "cells": [
  {
   "cell_type": "code",
   "execution_count": null,
   "id": "98181abf",
   "metadata": {},
   "outputs": [],
   "source": []
  },
  {
   "cell_type": "code",
   "execution_count": 6,
   "id": "4d61e63a",
   "metadata": {},
   "outputs": [],
   "source": [
    "from glob import glob\n",
    "substitles_paths = sorted(glob(\"../data/Subtitles/*.ass\"))"
   ]
  },
  {
   "cell_type": "code",
   "execution_count": 7,
   "id": "3cc4c41e",
   "metadata": {
    "scrolled": true
   },
   "outputs": [
    {
     "data": {
      "text/plain": [
       "['../data/Subtitles\\\\Naruto Season 1 - 01.ass',\n",
       " '../data/Subtitles\\\\Naruto Season 1 - 02.ass',\n",
       " '../data/Subtitles\\\\Naruto Season 1 - 03.ass',\n",
       " '../data/Subtitles\\\\Naruto Season 1 - 04.ass',\n",
       " '../data/Subtitles\\\\Naruto Season 1 - 05.ass']"
      ]
     },
     "execution_count": 7,
     "metadata": {},
     "output_type": "execute_result"
    }
   ],
   "source": [
    "substitles_paths[:5]"
   ]
  },
  {
   "cell_type": "code",
   "execution_count": 8,
   "id": "8d85b6b4",
   "metadata": {},
   "outputs": [],
   "source": [
    "scripts = []\n",
    "episode_num = []\n",
    "for path in substitles_paths:\n",
    "    with open(path, 'r', encoding='utf-8') as file:\n",
    "        lines = file.readlines()\n",
    "        lines = lines[27:]\n",
    "        rows = [\",\".join(line.split(',')[9:]) for line in lines]\n",
    "\n",
    "        \n",
    "    rows = [line.replace(\"\\\\N\",' ') for line in rows]\n",
    "    script = \" \".join(rows)\n",
    "    \n",
    "    episode = int(path.split('-')[1].split('.')[0].strip())\n",
    "    \n",
    "    scripts.append(script)\n",
    "    episode_num.append(episode)"
   ]
  },
  {
   "cell_type": "code",
   "execution_count": null,
   "id": "3b3c9518",
   "metadata": {},
   "outputs": [],
   "source": []
  },
  {
   "cell_type": "code",
   "execution_count": 9,
   "id": "7be39c64",
   "metadata": {},
   "outputs": [],
   "source": [
    "import pandas as pd\n",
    "df = pd.DataFrame.from_dict({'episode':episode_num,'script':scripts})"
   ]
  },
  {
   "cell_type": "code",
   "execution_count": 10,
   "id": "30d28c23",
   "metadata": {},
   "outputs": [
    {
     "data": {
      "text/html": [
       "<div>\n",
       "<style scoped>\n",
       "    .dataframe tbody tr th:only-of-type {\n",
       "        vertical-align: middle;\n",
       "    }\n",
       "\n",
       "    .dataframe tbody tr th {\n",
       "        vertical-align: top;\n",
       "    }\n",
       "\n",
       "    .dataframe thead th {\n",
       "        text-align: right;\n",
       "    }\n",
       "</style>\n",
       "<table border=\"1\" class=\"dataframe\">\n",
       "  <thead>\n",
       "    <tr style=\"text-align: right;\">\n",
       "      <th></th>\n",
       "      <th>episode</th>\n",
       "      <th>script</th>\n",
       "    </tr>\n",
       "  </thead>\n",
       "  <tbody>\n",
       "    <tr>\n",
       "      <th>0</th>\n",
       "      <td>1</td>\n",
       "      <td>A long time ago, a powerful demon fox appeared...</td>\n",
       "    </tr>\n",
       "    <tr>\n",
       "      <th>1</th>\n",
       "      <td>2</td>\n",
       "      <td>C'mon!\\n Running like a fugitive,\\n Being chas...</td>\n",
       "    </tr>\n",
       "    <tr>\n",
       "      <th>2</th>\n",
       "      <td>3</td>\n",
       "      <td>C'mon!\\n Running like a fugitive,\\n Being chas...</td>\n",
       "    </tr>\n",
       "    <tr>\n",
       "      <th>3</th>\n",
       "      <td>4</td>\n",
       "      <td>C'mon!\\n Running like a fugitive,\\n Being chas...</td>\n",
       "    </tr>\n",
       "    <tr>\n",
       "      <th>4</th>\n",
       "      <td>5</td>\n",
       "      <td>C'mon!\\n Running like a fugitive,\\n Being chas...</td>\n",
       "    </tr>\n",
       "  </tbody>\n",
       "</table>\n",
       "</div>"
      ],
      "text/plain": [
       "   episode                                             script\n",
       "0        1  A long time ago, a powerful demon fox appeared...\n",
       "1        2  C'mon!\\n Running like a fugitive,\\n Being chas...\n",
       "2        3  C'mon!\\n Running like a fugitive,\\n Being chas...\n",
       "3        4  C'mon!\\n Running like a fugitive,\\n Being chas...\n",
       "4        5  C'mon!\\n Running like a fugitive,\\n Being chas..."
      ]
     },
     "execution_count": 10,
     "metadata": {},
     "output_type": "execute_result"
    }
   ],
   "source": [
    "df.head()"
   ]
  },
  {
   "cell_type": "code",
   "execution_count": null,
   "id": "5b14b4aa",
   "metadata": {},
   "outputs": [],
   "source": []
  },
  {
   "cell_type": "code",
   "execution_count": 11,
   "id": "321c2501",
   "metadata": {
    "scrolled": false
   },
   "outputs": [
    {
     "data": {
      "text/plain": [
       "'C\\'mon!\\n Running like a fugitive,\\n Being chased by something\\n Inside my heart is pounding\\n My throat dry like it\\'s withering\\n For no single one,\\n To none does belong,\\n This time is ours, right now...\\n Unraveling the pain,\\n Unraveling our hearts,\\n Unraveling shadows\\n Stifling our breath,\\n Reaching for beyond,\\n Tearing through the dark\\n In fighting and in love\\n To the distant light above,\\n Yes, we are on the way\\n I wanna rock...\\n Rockin\\' my heart\\n Sasuke here at Point B!\\n Sakura here at Point C!\\n Naruto here. I\\'m at Point A!\\n You\\'re slow, Naruto!\\n Okay, the seventh squad…\\n Hm?!\\n The target has moved!\\n Follow it!\\n Alright! It\\'s over there!\\n What\\'s your distance from the target?\\n Five meters! I can go at anytime!\\n I\\'m ready, too!\\n Me, too…!\\n Okay…\\n Do it!\\n Uryaaah!\\n I got him!\\n Does he have the ribbon on his right ear…?\\n Are you sure it\\'s our target Tora?\\n It\\'s the target, no mistake.\\n Alright, the mission to capture lost pet \"Tora\" is complete!\\n Isn\\'t there a mission with a greater sense of urgency?!\\n A Dangerous Mission! Journey to the Land of Waves!\\n Ohhh! My cute Tora! I was worried to death!\\n The Wife of the Land of Fire\\'s Daimyo (Feudal Lord) \\t\\tMadame Shijimi and Tora (the Cat)\\n Serves him right, that stupid cat!\\n No wonder he ran away…\\n …Now, then!\\n The next mission for Kakashi\\'s seventh squad is…\\n An errand to the neighboring town… to baby-sit the chief Councilor\\'s boy…\\n Helping with digging for potatoes, eh…\\n Nooooo!\\n No! No, thank you!\\n As for me,\\n I want to do like a more exciting mission!\\n Give us something else!\\n He\\'s got a point…\\n Man… He\\'s a pain!\\n I thought it was about time for him to get fretful…\\n You fool! You\\'re still bottom rookie!\\n At the start,\\n everyone moves up the ladder\\n by gaining experience from simple missions!\\n B-But!\\n It\\'s been nothing but blah missions so far!\\n Knock it off!\\n Naruto!\\n It\\'s necessary to explain to you what a mission is…\\n Listen to me!\\n Requests pour into the village every day.\\n They range from babysitting to assassinations…\\n A wide spectrum of requests are recorded on the request list…\\n They are separated into A, B, C, and D ranks in order of difficulty.\\n In the village, everyone below me\\n is divided up by ability in the order of Jonin, Chunin, and Genin.\\n We at the highest level distribute the requests as missions\\n to Ninjas who have abilities that suit said mission.\\n And, if the mission is successful, the fee comes in from the client.\\n Nevertheless, you guys have just become Genin…\\n rank D is about the best you can do…\\n Hm?!\\n Yesterday\\'s lunch was pork-bone broth noodles,\\n so today will be miso broth…\\n Listen!\\n I-I\\'m sorry.\\n Maaaan! You always lecture me, old man!\\n But I\\'m not that little prankster that you think I am!\\n Humph!\\n Maaan, I\\'m going to get scolded later…\\n This kid who could only express himself with pranks…\\n Okay, fine!\\n Huh…?!\\n If you insist…\\n I\\'ll have you do a Rank C mission…\\n You\\'ll be bodyguards for someone.\\n Really?!\\n Ah-ha!\\n Who? Who?\\n A feudal lord?!\\n Or, a princess?!\\n Don\\'t get so hasty.\\n I\\'ll introduce you now!\\n Could you please come in…?\\n Huh…?!\\n What\\'s this? It\\'s just a bunch of darned squirts!\\n Huh…?\\n Particularly you, the smallest one with the idiot face.\\n Are you really a Ninja?\\n Who\\'s the smallest one with the idiot face he\\'s talking about…?\\n What?!\\n I\\'ll kill him!!\\n What good will it do to kill the old man\\n you\\'re supposed to be guarding, you moron?!\\n I\\'m Tazuna, veteran bridge builder.\\n You\\'ll be risking life and limb in guarding me to the max\\n until I return to my land and complete my bridge!\\n All right!\\n We\\'re off!!\\n What\\'re you so excited about?!\\n You see, I\\'ve never left the village before!\\n Hey! Am I really okay with this squirt?!\\n I\\'m a Jonin. I\\'ll be watching him. There\\'s no need to worry.\\n ...okay with this squirt?!\\n Anyone but this old dude, man…\\n He\\'s really the worst client!\\n I\\'ll tell him a thing or two…\\n Hey, old man!\\n Don\\'t be mocking Ninjas so much!\\n I\\'m awesome, you see!\\n I\\'m a super-elite Ninja who will be called Hokage one day!\\n My name\\'s Naruto Uzumaki.\\n Remember it well!!\\n The Hokage\\'s the super top-dog Ninja in the village, right?\\n You sure as heck don\\'t seem like you could become the Hokage…\\n Aaah! Shut up!\\n I\\'m prepared to do whatever it takes to become the Hokage!\\n You\\'ll have no choice but to acknowledge me then!!\\n I\\'ll never acknowledge you, squirt…\\n Even if you become the Hokage!\\n What?! I\\'ll kill you!\\n I told you to stop it, you moron!\\n No! At least let me have one shot, just one…\\n Say…Mr.Tazuna…?\\n What is it?\\n Your country is  \"The Land of the Waves,\"  right?\\n What of it?\\n Say, Kakashi Sensei…\\n Are there Ninjas in that land, too?\\n No, there aren\\'t Ninjas in the Land of the Waves…\\n But in other nations, while cultures and customs are different,\\n hidden villages exist, and there are Ninjas there.\\n To the many nations on the continent,\\n the existence of Shinobi Villages is a measure of the nation\\'s military strength.\\n In other words,\\n that is how these nations maintain their relationships with neighboring nations.\\n Even so, the villages are not under the control of the nations.\\n They are equal in rank.\\n On a small island like the Land of the Waves,\\n where it is difficult to be influenced by other nations,\\n there is no need for a Shinobi village.\\n Among the respective nations that possess a Shinobi Village,\\n the five nations of \"Fire,\" \"Water,\" \"Lightning,\" \"Wind,\" and \"Earth,\"\\n due to their large territory and immeasurable power,\\n are called the \"Five Great Nations.\"\\n The Village Hidden in the Leaves of the Land of Fire,\\n the Village Hidden in the Mist of the Land of Water,\\n the Village Hidden in the Clouds of the Land of Lightning,\\n the Village Hidden in the Sand of the Land of Wind,\\n the Village Hidden in the Rocks of the Land of Earth.\\n Only the leaders of each of these Hidden Villages\\n are allowed to have the name of Kage, the Shadow.\\n The \"Hokage\" (Fire shadow),\"\\n \"Mizukage\" \\t\\t\\t\\t\\t(Water Shadow),\\n \"Raikage\" (Lightning Shadow),\\n \"Kazekage\" \\t\\t\\t\\t\\t(Wind Shadow),\\n \"Tsuchikage\" (Earth Shadow),\\n the so-called Five Kage (shadows),\\n reign supreme over the tens of thousands of Ninjas\\n in each nation of the whole world.\\n No kidding… Lord Hokage is that incredible!\\n I wonder if that blah old man is really that incredible…\\n Sounds fishy!\\n That can\\'t be true! No way!\\n Hey!\\n You guys just doubted Lord Hokage now, didn\\'t you…?\\n Well…don\\'t worry.\\n There are no Ninja battles in Rank C missions.\\n Then, there\\'s no worry of getting into a scrape with foreign Ninjas…!\\n Of course, not.\\n What?!\\n Huh?!\\n W-What?\\n The first one!\\n K-Kakashi Sensei!\\n The second one…\\n The second one…\\n Ohhh…!\\n Hm?!\\n It doesn\\'t come off!\\n W…Wow!!\\n Whoa!\\n Ugh!!\\n They\\'ll come!\\n I have to do it… I have to!!\\n Get back, sir!!\\n Yo…\\n Kakashi Sensei…! He\\'s alive!\\n Humph! \\t\\t\\t\\t\\tShow off…\\n Whaa--?!\\n Then, what was that…?\\n So Kakashi Sensei…used Substitutions…\\n Naruto… Sorry I didn\\'t help you right away…\\n I got you hurt.\\n I didn\\'t think you\\'d be incapable of moving…\\n I was saved, somehow…\\n Anyhow, let me just say, good job, Sasuke.\\n You, too, Sakura.\\n I…couldn\\'t do anything…\\n but Sasuke…\\n It was his first real battle…\\n Didn\\'t he feel scared, at all?\\n He saved me like it was nothing and without getting any dirt on his clothes…\\n Hey…\\n Huh?!\\n Are you hurt…\\n scaredy cat...?\\n Sasuke!\\n Naruto!\\n These guys have poison on their claws.\\n You need to take out the poison quickly.\\n What?!\\n You have to open the wound and drain the poisoned blood.\\n Don\\'t move so much.\\n The poison will spread.\\n By the way, Mr. Tazuna…\\n W-What is it…?!\\n I have something to talk to you about.\\n Chunin from the Village Hidden in the Mist…\\n These guys are Ninjas known for continuing to fight\\n no matter what the sacrifice.\\n How were you able to detect our movements?\\n There probably wouldn\\'t be  puddles of water\\n on a clear day like today, when it hasn\\'t rained for days.\\n Knowing that, why\\'d you leave it to the kids to fight?\\n If I felt like it, I could kill these guys instantly…\\n But… \\t\\t\\t\\t\\tI had to know...\\n who the target of these enemies was…\\n Hm?! What do you mean?\\n In other words...\\n what I mean is I had to know if it was you,\\n or one of us Shinobi… who was being targeted.\\n We haven\\'t heard anything about you being targeted by Ninjas.\\n The content of the request was supposed to just be\\n protection from gangs, thieves, and the like…\\n This is a mission with a B rank or higher.\\n The request was supposed to be\\n for backup protection until you finished building your bridge…\\n If our enemies were to be Ninjas,\\n the mission would\\'ve been estimated without question\\n as an expensive  \"B Rank\"  mission.\\n It appears there\\'s some kind of good reason for this,\\n but being lied to in the request won\\'t do.\\n This is beyond the scope of our mission.\\n This mission is too soon for us…\\n Let\\'s give it up!\\n We need an anesthetic to open Naruto\\'s wound\\n and get out the poisoned blood…\\n We have to return to the village and take him to a doctor…\\n Hmmm…\\n Hm? What...?!\\n This sure is a burden!\\n Since we need to treat Naruto\\'s wound, shall we go back to the village…?\\n Huh!\\n Oh!\\n Why am I so different?!\\n Why\\'s it always me… Darn it!\\n Naruto! What\\'re you doing?!\\n I should be getting stronger…\\n Here I\\'m steadily carrying out missions and\\n doing special-skill training by myself every day…\\n I\\'ll never get into another situation from which I\\'ll have to be rescued.\\n I\\'ll never be afraid or a be a coward…\\n I won\\'t lose to Sasuke…\\n I\\'m going to swear on the pain of my left hand!\\n I\\'ll protect you, old man… with this Kunai knife!!\\n The mission continues!!\\n Naruto…\\n It\\'s all well and good to rid yourself of the poisoned blood,\\n but any more than that and you\\'ll bleed to death.\\n Things will get hairy if you don\\'t stop the bleeding quick... Seriously!\\n Yikes!\\n Argh! No! No!\\n I can\\'t die like this, I say!\\n Show me your hand.\\n Nooo! Help me!!\\n Naruto!\\n You\\'re really self-abusive, aren\\'t you!\\n That\\'s masochistic!\\n The wound is…\\n already starting to heal…\\n Um…um…\\n Am I okay? You look awfully serious…\\n Well…You should be okay.\\n Is it…the power of the Nine-Tailed Fox…?\\n Did you say you failed?!\\n I paid a lot of money to hire you guys\\n because you said you were once hot-shot Ninjas!\\n Stop your darned grumbling…!!\\n Next time, I\\'ll kill him with this… head chopper!\\n I-It\\'s really okay, right?!\\n It seems that the enemy has hired good Ninjas…\\n On top of that, a tightened guard on account of the Demon Brothers\\' failure\\n means that it won\\'t be easy…\\n Just who do you think I am?!\\n This Zabuza Momochi, who is called the demon of…\\n the Hidden Mist!!\\n We\\'ve finally landed ashore in the Land of the Waves.\\n The guys before were all well and good,\\n but there should be even stronger guys lying in wait.\\n Okay! I\\'m going to regain my honor and continue the mission.\\n No matter what enemy comes,\\n I\\'ll protect the old man this time around for sure.\\n Oh, they wasted no time.\\n An impressive-looking guy with a huge Katana has come.\\n Next episode:  \"The Assassin of the Mist!\"\\n I\\'m going to kick butt once again!\\n'"
      ]
     },
     "execution_count": 11,
     "metadata": {},
     "output_type": "execute_result"
    }
   ],
   "source": [
    "df.iloc[5]['script']"
   ]
  },
  {
   "cell_type": "code",
   "execution_count": null,
   "id": "bc53be34",
   "metadata": {},
   "outputs": [],
   "source": []
  },
  {
   "cell_type": "code",
   "execution_count": 12,
   "id": "07835360",
   "metadata": {},
   "outputs": [
    {
     "ename": "ModuleNotFoundError",
     "evalue": "No module named 'spacy'",
     "output_type": "error",
     "traceback": [
      "\u001b[1;31m---------------------------------------------------------------------------\u001b[0m",
      "\u001b[1;31mModuleNotFoundError\u001b[0m                       Traceback (most recent call last)",
      "Cell \u001b[1;32mIn[12], line 1\u001b[0m\n\u001b[1;32m----> 1\u001b[0m \u001b[38;5;28;01mimport\u001b[39;00m \u001b[38;5;21;01mspacy\u001b[39;00m\n\u001b[0;32m      2\u001b[0m nlp \u001b[38;5;241m=\u001b[39m spacy\u001b[38;5;241m.\u001b[39mload(\u001b[38;5;124m\"\u001b[39m\u001b[38;5;124men_core_web_trf\u001b[39m\u001b[38;5;124m\"\u001b[39m)\n",
      "\u001b[1;31mModuleNotFoundError\u001b[0m: No module named 'spacy'"
     ]
    }
   ],
   "source": [
    "import spacy\n",
    "nlp = spacy.load(\"en_core_web_trf\")"
   ]
  },
  {
   "cell_type": "code",
   "execution_count": null,
   "id": "5426805b",
   "metadata": {},
   "outputs": [],
   "source": [
    "doc = nlp(\"Mark went to Germany\")"
   ]
  },
  {
   "cell_type": "code",
   "execution_count": null,
   "id": "2bd38f80",
   "metadata": {},
   "outputs": [],
   "source": [
    "for ent in doc.ents: \n",
    "    print(ent.text,ent.label_)"
   ]
  },
  {
   "cell_type": "code",
   "execution_count": null,
   "id": "bce5fa75",
   "metadata": {},
   "outputs": [],
   "source": []
  },
  {
   "cell_type": "code",
   "execution_count": null,
   "id": "b42f0f8a",
   "metadata": {},
   "outputs": [],
   "source": [
    "from nltk import sent_tokenize\n",
    "\n",
    "def get_ners(script):\n",
    "    script_sentences = sent_tokenize(script)\n",
    "\n",
    "    ner_output = []\n",
    "    \n",
    "    for sentence in script_sentences:\n",
    "        doc = nlp(sentence)\n",
    "        ners = set()\n",
    "        for ent in doc.ents: \n",
    "            if ent.label_=='PERSON':\n",
    "                full_name = ent.text\n",
    "                first_name=full_name.split(' ')[0]\n",
    "                ners.add(first_name)\n",
    "        ner_output.append(list(ners))\n",
    "    return ner_output"
   ]
  },
  {
   "cell_type": "code",
   "execution_count": null,
   "id": "44f0eb15",
   "metadata": {},
   "outputs": [],
   "source": [
    "df['ners'] = df['script'].apply(get_ners)"
   ]
  },
  {
   "cell_type": "code",
   "execution_count": null,
   "id": "00301717",
   "metadata": {},
   "outputs": [],
   "source": []
  },
  {
   "cell_type": "code",
   "execution_count": null,
   "id": "bca92af1",
   "metadata": {},
   "outputs": [],
   "source": [
    "window=10\n",
    "entity_relationship = []\n",
    "\n",
    "for row in df['ners']:\n",
    "    previous_entities_in_window = []\n",
    "    \n",
    "    for sentence in row:\n",
    "        previous_entities_in_window.append(sentence)\n",
    "        previous_entities_in_window = previous_entities_in_window[-10:]\n",
    "        \n",
    "        previous_entities_flattened= sum(previous_entities_in_window, [])\n",
    "        \n",
    "        for entity in sentence:            \n",
    "            for entity_in_window in previous_entities_flattened:\n",
    "                if entity!=entity_in_window:\n",
    "                    entity_rel = sorted([entity,entity_in_window])\n",
    "                    entity_relationship.append(entity_rel)"
   ]
  },
  {
   "cell_type": "code",
   "execution_count": null,
   "id": "2d1c429f",
   "metadata": {},
   "outputs": [],
   "source": [
    "relationship_df = pd.DataFrame({'value':entity_relationship})"
   ]
  },
  {
   "cell_type": "code",
   "execution_count": null,
   "id": "744f126e",
   "metadata": {},
   "outputs": [],
   "source": [
    "relationship_df['source'] = relationship_df['value'].apply(lambda x: x[0])\n",
    "relationship_df['target'] = relationship_df['value'].apply(lambda x: x[1])"
   ]
  },
  {
   "cell_type": "code",
   "execution_count": null,
   "id": "032e549b",
   "metadata": {},
   "outputs": [],
   "source": [
    "relationship_df = relationship_df.groupby(['source','target']).count().reset_index()"
   ]
  },
  {
   "cell_type": "code",
   "execution_count": null,
   "id": "899602b2",
   "metadata": {},
   "outputs": [],
   "source": [
    "relationship_df = relationship_df.sort_values('value',ascending=False)\n",
    "relationship_df.head()"
   ]
  },
  {
   "cell_type": "code",
   "execution_count": null,
   "id": "edc42d69",
   "metadata": {},
   "outputs": [],
   "source": [
    "relationship_df = relationship_df.head(200)"
   ]
  },
  {
   "cell_type": "code",
   "execution_count": null,
   "id": "39ef9ec9",
   "metadata": {},
   "outputs": [],
   "source": [
    "import networkx as nx\n",
    "G = nx.from_pandas_edgelist(relationship_df, \n",
    "                            source = \"source\", \n",
    "                            target = \"target\", \n",
    "                            edge_attr = \"value\", \n",
    "                            create_using = nx.Graph())"
   ]
  },
  {
   "cell_type": "code",
   "execution_count": null,
   "id": "ccbb661d",
   "metadata": {},
   "outputs": [],
   "source": [
    "import matplotlib.pyplot as plt\n",
    "plt.figure(figsize=(10,10))\n",
    "pos = nx.kamada_kawai_layout(G)\n",
    "nx.draw(G, with_labels=True, node_color='skyblue', edge_cmap=plt.cm.Blues, pos = pos)\n",
    "plt.show()"
   ]
  },
  {
   "cell_type": "code",
   "execution_count": null,
   "id": "0d6d51fb",
   "metadata": {},
   "outputs": [],
   "source": []
  },
  {
   "cell_type": "code",
   "execution_count": null,
   "id": "ab5d4ac2",
   "metadata": {},
   "outputs": [],
   "source": [
    "from pyvis.network import Network\n",
    "net = Network(notebook = True, width=\"1000px\", height=\"700px\", bgcolor='#222222', font_color='white')\n",
    "\n",
    "node_degree = dict(G.degree)\n",
    "\n",
    "#Setting up node size attribute\n",
    "nx.set_node_attributes(G, node_degree, 'size')\n",
    "\n",
    "net.from_nx(G)\n",
    "net.show(\"naruto.html\")"
   ]
  },
  {
   "cell_type": "code",
   "execution_count": null,
   "id": "25be42bd",
   "metadata": {},
   "outputs": [],
   "source": []
  },
  {
   "cell_type": "code",
   "execution_count": null,
   "id": "3fb06bdb",
   "metadata": {},
   "outputs": [],
   "source": []
  },
  {
   "cell_type": "code",
   "execution_count": null,
   "id": "8d029483",
   "metadata": {},
   "outputs": [],
   "source": []
  },
  {
   "cell_type": "code",
   "execution_count": null,
   "id": "1117d6c9",
   "metadata": {},
   "outputs": [],
   "source": []
  },
  {
   "cell_type": "code",
   "execution_count": null,
   "id": "064bf5c9",
   "metadata": {},
   "outputs": [],
   "source": []
  },
  {
   "cell_type": "code",
   "execution_count": null,
   "id": "1430eb06",
   "metadata": {},
   "outputs": [],
   "source": []
  },
  {
   "cell_type": "code",
   "execution_count": null,
   "id": "8adb2bbc",
   "metadata": {},
   "outputs": [],
   "source": []
  },
  {
   "cell_type": "code",
   "execution_count": null,
   "id": "37d62908",
   "metadata": {},
   "outputs": [],
   "source": []
  }
 ],
 "metadata": {
  "kernelspec": {
   "display_name": "Python 3 (ipykernel)",
   "language": "python",
   "name": "python3"
  },
  "language_info": {
   "codemirror_mode": {
    "name": "ipython",
    "version": 3
   },
   "file_extension": ".py",
   "mimetype": "text/x-python",
   "name": "python",
   "nbconvert_exporter": "python",
   "pygments_lexer": "ipython3",
   "version": "3.10.9"
  }
 },
 "nbformat": 4,
 "nbformat_minor": 5
}
